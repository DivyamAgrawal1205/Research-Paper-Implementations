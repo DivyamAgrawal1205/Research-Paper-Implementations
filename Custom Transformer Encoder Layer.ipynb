{
 "cells": [
  {
   "cell_type": "markdown",
   "metadata": {},
   "source": [
    "<br>"
   ]
  },
  {
   "cell_type": "markdown",
   "metadata": {},
   "source": [
    "\n",
    "<p style=\"font-size:32px; text-align:center\"> <b>Comparison of Base Transformer and Custom Transformer</b></p>\n",
    "\n"
   ]
  },
  {
   "cell_type": "code",
   "execution_count": 26,
   "metadata": {},
   "outputs": [],
   "source": [
    "import math\n",
    "import os\n",
    "from tempfile import TemporaryDirectory\n",
    "from typing import Tuple\n",
    "\n",
    "import torch\n",
    "from torch import nn, Tensor\n",
    "import torch.nn.functional as F\n",
    "from torch.nn import TransformerEncoder, TransformerEncoderLayer\n",
    "from torch.utils.data import dataset\n",
    "import matplotlib.pyplot as plt"
   ]
  },
  {
   "cell_type": "markdown",
   "metadata": {},
   "source": [
    "## Creating Custom Encoder layer for our Custom Transformer\n",
    "##### (Achieved this encoder architechture by many hit and trial processes)\n",
    "<p style=\"font-size:16px\"> 1. We created a new experimental encoder layer. <br><br> 2. We introduced <b>two parallel multihead self-attention layers in the encoder with half the number of heads</b> in the base transformer model <b>to ensure the number of self attention heads remain same</b>.<br><br>3. Also We introduced <b>GELU activation function in place of ReLU activation</b >function in the final feedforward network.<br><br>4. Talking about it, we <b>increased the number of layers in the feedforward net by one</b> with <b>middle one and starting one equal to half the number of neurons in base transformer model.</b> <br><br> 5. We didnt change layer normalisation and created our custom encoder layer that would make our custom transformer.<br><br>6. We <b>added dropout of 0.6</b> in the final feedforward net to reduce total parameters . <b><br><br></b></p>\n",
    "\n",
    "## LETS SEE IF IT ACHIEVES SAME ACCURACY AS BASE VARIANT"
   ]
  },
  {
   "cell_type": "code",
   "execution_count": 27,
   "metadata": {},
   "outputs": [],
   "source": [
    "class CustomTransformerEncoderLayer(nn.Module):\n",
    "    def __init__(self, d_model, nhead, dim_feedforward=2048, dropout=0.5):\n",
    "        super(CustomTransformerEncoderLayer, self).__init__()\n",
    "        self.self_attn = nn.MultiheadAttention(d_model, nhead // 2)\n",
    "        self.feedforward = nn.Sequential(\n",
    "            nn.Linear(d_model, dim_feedforward//2),\n",
    "            nn.GELU(),\n",
    "            nn.Dropout(0.6),\n",
    "            nn.Linear(dim_feedforward//2, dim_feedforward//2),\n",
    "            nn.GELU(),\n",
    "            nn.Dropout(0.6),\n",
    "            nn.Linear(dim_feedforward//2, d_model)\n",
    "        )\n",
    "        self.norm1 = nn.LayerNorm(d_model)\n",
    "        self.norm2 = nn.LayerNorm(d_model)\n",
    "        self.norm3 = nn.LayerNorm(d_model)\n",
    "        self.norm4 = nn.LayerNorm(d_model)\n",
    "        self.dropout = nn.Dropout(dropout)\n",
    "\n",
    "    def forward(self, x, src_mask, is_causal = False, src_key_padding_mask = None):\n",
    "        # Self-attention layer\n",
    "        attn_output_1, _ = self.self_attn(x, x, x,attn_mask = src_mask, \n",
    "                                          key_padding_mask = src_key_padding_mask, \n",
    "                                          is_causal = is_causal)\n",
    "        x_1 = x + self.dropout(attn_output_1)\n",
    "        x_1 = self.norm1(x_1)\n",
    "        \n",
    "        attn_output_2, _ = self.self_attn(x, x, x,attn_mask = src_mask, \n",
    "                                          key_padding_mask = src_key_padding_mask, \n",
    "                                          is_causal = is_causal)\n",
    "        x_2 = x + self.dropout(attn_output_2)\n",
    "        x_2 = self.norm2(x_2)\n",
    "        \n",
    "        x_tot = x_1 + x_2\n",
    "\n",
    "        # Feedforward layer\n",
    "        ff_output = self.feedforward(x_tot)\n",
    "        x_tot = x_tot + self.dropout(ff_output)\n",
    "        x_tot = self.norm4(x_tot)\n",
    "\n",
    "        return x_tot"
   ]
  },
  {
   "cell_type": "markdown",
   "metadata": {},
   "source": [
    "## Define the base transformer model"
   ]
  },
  {
   "cell_type": "code",
   "execution_count": 28,
   "metadata": {},
   "outputs": [],
   "source": [
    "class TransformerModel(nn.Module):\n",
    "\n",
    "    def __init__(self, ntoken: int, d_model: int, nhead: int, d_hid: int,\n",
    "                 nlayers: int, dropout: float = 0.5):\n",
    "        super().__init__()\n",
    "        self.model_type = 'Transformer'\n",
    "        self.pos_encoder = PositionalEncoding(d_model, dropout)\n",
    "        encoder_layers = TransformerEncoderLayer(d_model, nhead, d_hid, dropout)\n",
    "        self.transformer_encoder = TransformerEncoder(encoder_layers, nlayers)\n",
    "        self.embedding = nn.Embedding(ntoken, d_model)\n",
    "        self.d_model = d_model\n",
    "        self.linear = nn.Linear(d_model, ntoken)\n",
    "\n",
    "        self.init_weights()\n",
    "\n",
    "    def init_weights(self) -> None:\n",
    "        initrange = 0.1\n",
    "        self.embedding.weight.data.uniform_(-initrange, initrange)\n",
    "        self.linear.bias.data.zero_()\n",
    "        self.linear.weight.data.uniform_(-initrange, initrange)\n",
    "\n",
    "    def forward(self, src: Tensor, src_mask: Tensor = None) -> Tensor:\n",
    "        src = self.embedding(src) * math.sqrt(self.d_model)\n",
    "        src = self.pos_encoder(src)\n",
    "        if src_mask is None:\n",
    "            src_mask = nn.Transformer.generate_square_subsequent_mask(len(src)).to(device)\n",
    "        output = self.transformer_encoder(src, src_mask)\n",
    "        output = self.linear(output)\n",
    "        return output"
   ]
  },
  {
   "cell_type": "markdown",
   "metadata": {},
   "source": [
    "## Define the Custom transformer model"
   ]
  },
  {
   "cell_type": "code",
   "execution_count": 29,
   "metadata": {},
   "outputs": [],
   "source": [
    "class CustomTransformerModel(nn.Module):\n",
    "\n",
    "    def __init__(self, ntoken: int, d_model: int, nhead: int, d_hid: int,\n",
    "                 nlayers: int, dropout: float = 0.5):\n",
    "        super().__init__()\n",
    "        self.model_type = 'CustomTransformer'\n",
    "        self.pos_encoder = PositionalEncoding(d_model, dropout)\n",
    "        encoder_layers = CustomTransformerEncoderLayer(d_model, nhead, d_hid, dropout)\n",
    "        self.transformer_encoder = TransformerEncoder(encoder_layers, nlayers)\n",
    "        self.embedding = nn.Embedding(ntoken, d_model)\n",
    "        self.d_model = d_model\n",
    "        self.linear = nn.Linear(d_model, ntoken)\n",
    "\n",
    "        self.init_weights()\n",
    "\n",
    "    def init_weights(self) -> None:\n",
    "        initrange = 0.1\n",
    "        self.embedding.weight.data.uniform_(-initrange, initrange)\n",
    "        self.linear.bias.data.zero_()\n",
    "        self.linear.weight.data.uniform_(-initrange, initrange)\n",
    "\n",
    "    def forward(self, src: Tensor, src_mask: Tensor = None) -> Tensor:\n",
    "        src = self.embedding(src) * math.sqrt(self.d_model)\n",
    "        src = self.pos_encoder(src)\n",
    "        if src_mask is None:\n",
    "            src_mask = nn.Transformer.generate_square_subsequent_mask(len(src)).to(device)\n",
    "        output = self.transformer_encoder(src, src_mask)\n",
    "        output = self.linear(output)\n",
    "        return output"
   ]
  },
  {
   "cell_type": "markdown",
   "metadata": {},
   "source": [
    "## Defining Positional Encoding"
   ]
  },
  {
   "cell_type": "code",
   "execution_count": 30,
   "metadata": {},
   "outputs": [],
   "source": [
    "class PositionalEncoding(nn.Module):\n",
    "\n",
    "    def __init__(self, d_model: int, dropout: float = 0.1, max_len: int = 5000):\n",
    "        super().__init__()\n",
    "        self.dropout = nn.Dropout(p=dropout)\n",
    "\n",
    "        position = torch.arange(max_len).unsqueeze(1)\n",
    "        div_term = torch.exp(torch.arange(0, d_model, 2) * (-math.log(10000.0) / d_model))\n",
    "        pe = torch.zeros(max_len, 1, d_model)\n",
    "        pe[:, 0, 0::2] = torch.sin(position * div_term)\n",
    "        pe[:, 0, 1::2] = torch.cos(position * div_term)\n",
    "        self.register_buffer('pe', pe)\n",
    "\n",
    "    def forward(self, x: Tensor) -> Tensor:\n",
    "        x = x + self.pe[:x.size(0)]\n",
    "        return self.dropout(x)"
   ]
  },
  {
   "cell_type": "markdown",
   "metadata": {},
   "source": [
    "## Load and batch data\n",
    "\n",
    "\n"
   ]
  },
  {
   "cell_type": "code",
   "execution_count": 31,
   "metadata": {
    "scrolled": true
   },
   "outputs": [],
   "source": [
    "from torchtext.datasets import WikiText2\n",
    "from torchtext.data.utils import get_tokenizer\n",
    "from torchtext.vocab import build_vocab_from_iterator\n",
    "\n",
    "train_iter = WikiText2(split='train')\n",
    "tokenizer = get_tokenizer('basic_english')\n",
    "vocab = build_vocab_from_iterator(map(tokenizer, train_iter), specials=['<unk>'])\n",
    "vocab.set_default_index(vocab['<unk>'])\n",
    "\n",
    "def data_process(raw_text_iter: dataset.IterableDataset) -> Tensor:\n",
    "    \"\"\"Converts raw text into a flat Tensor.\"\"\"\n",
    "    data = [torch.tensor(vocab(tokenizer(item)), dtype=torch.long) for item in raw_text_iter]\n",
    "    return torch.cat(tuple(filter(lambda t: t.numel() > 0, data)))\n",
    "\n",
    "train_iter, val_iter, test_iter = WikiText2()\n",
    "train_data = data_process(train_iter)\n",
    "val_data = data_process(val_iter)\n",
    "test_data = data_process(test_iter)\n",
    "\n",
    "device = torch.device('cuda' if torch.cuda.is_available() else 'cpu')\n",
    "\n",
    "def batchify(data: Tensor, bsz: int) -> Tensor:\n",
    "    seq_len = data.size(0) // bsz\n",
    "    data = data[:seq_len * bsz]\n",
    "    data = data.view(bsz, seq_len).t().contiguous()\n",
    "    return data.to(device)\n",
    "\n",
    "batch_size = 20\n",
    "eval_batch_size = 10\n",
    "train_data = batchify(train_data, batch_size)  \n",
    "val_data = batchify(val_data, eval_batch_size)\n",
    "test_data = batchify(test_data, eval_batch_size)"
   ]
  },
  {
   "cell_type": "markdown",
   "metadata": {},
   "source": [
    "## Functions to generate input and target sequence\n",
    "\n",
    "\n"
   ]
  },
  {
   "cell_type": "code",
   "execution_count": 32,
   "metadata": {},
   "outputs": [],
   "source": [
    "bptt = 35\n",
    "def get_batch(source: Tensor, i: int) -> Tuple[Tensor, Tensor]:\n",
    "    seq_len = min(bptt, len(source) - 1 - i)\n",
    "    data = source[i:i+seq_len]\n",
    "    target = source[i+1:i+1+seq_len].reshape(-1)\n",
    "    return data, target"
   ]
  },
  {
   "cell_type": "markdown",
   "metadata": {},
   "source": [
    "## Initiate both Base Tansformer Model and Custom Transformer Model\n",
    "\n",
    "\n"
   ]
  },
  {
   "cell_type": "code",
   "execution_count": 33,
   "metadata": {},
   "outputs": [],
   "source": [
    "ntokens = len(vocab)  \n",
    "emsize = 200  \n",
    "d_hid = 1028  \n",
    "nlayers = 4  \n",
    "nhead = 8  \n",
    "dropout_1 = 0.2  \n",
    "dropout_2 = 0.25\n",
    "model_1 = TransformerModel(ntokens, emsize, nhead, d_hid, nlayers, dropout_1).to(device)\n",
    "model_2 = CustomTransformerModel(ntokens, emsize, nhead, d_hid, nlayers, dropout_2).to(device)"
   ]
  },
  {
   "cell_type": "markdown",
   "metadata": {},
   "source": [
    "## Training and Evaluation Functons\n",
    "\n",
    "\n"
   ]
  },
  {
   "cell_type": "code",
   "execution_count": 34,
   "metadata": {},
   "outputs": [],
   "source": [
    "import time\n",
    "def train(model: nn.Module) -> float:\n",
    "    criterion = nn.CrossEntropyLoss()\n",
    "    lr = 1.0  \n",
    "    optimizer = torch.optim.SGD(model.parameters(), lr=lr)\n",
    "    scheduler = torch.optim.lr_scheduler.StepLR(optimizer, 1.0, gamma=0.95)\n",
    "    model.train()  \n",
    "    total_loss = 0.\n",
    "    log_interval = 200\n",
    "    start_time = time.time()\n",
    "\n",
    "    num_batches = len(train_data) // bptt\n",
    "    for batch, i in enumerate(range(0, train_data.size(0) - 1, bptt)):\n",
    "        data, targets = get_batch(train_data, i)\n",
    "        output = model(data)\n",
    "        output_flat = output.view(-1, ntokens)\n",
    "        loss = criterion(output_flat, targets)\n",
    "        \n",
    "\n",
    "        optimizer.zero_grad()\n",
    "        loss.backward()\n",
    "        torch.nn.utils.clip_grad_norm_(model.parameters(), 0.5)\n",
    "        optimizer.step()\n",
    "\n",
    "        total_loss += loss.item()\n",
    "\n",
    "    return total_loss/num_batches\n",
    "\n",
    "def evaluate(model: nn.Module, eval_data: Tensor) -> float:\n",
    "    model.eval()  \n",
    "    total_loss = 0.\n",
    "    with torch.no_grad():\n",
    "        for i in range(0, eval_data.size(0) - 1, bptt):\n",
    "            criterion = nn.CrossEntropyLoss()\n",
    "            data, targets = get_batch(eval_data, i)\n",
    "            seq_len = data.size(0)\n",
    "            output = model(data)\n",
    "            output_flat = output.view(-1, ntokens)\n",
    "            total_loss += seq_len * criterion(output_flat, targets).item()\n",
    "    return total_loss / (len(eval_data) - 1)"
   ]
  },
  {
   "cell_type": "markdown",
   "metadata": {},
   "source": [
    "## MODEL TRAINING\n",
    "\n"
   ]
  },
  {
   "cell_type": "code",
   "execution_count": 35,
   "metadata": {
    "scrolled": false
   },
   "outputs": [
    {
     "name": "stdout",
     "output_type": "stream",
     "text": [
      "TRAINING MODEL 1\n",
      "-----------------------------------------------------------------------------------------------\n",
      "| end of epoch   1 | time: 79.12s | train loss  6.37 | valid loss  5.84 | valid ppl   343.07\n",
      "-----------------------------------------------------------------------------------------------\n",
      "-----------------------------------------------------------------------------------------------\n",
      "| end of epoch   2 | time: 79.64s | train loss  5.77 | valid loss  5.57 | valid ppl   263.25\n",
      "-----------------------------------------------------------------------------------------------\n",
      "-----------------------------------------------------------------------------------------------\n",
      "| end of epoch   3 | time: 79.02s | train loss  5.51 | valid loss  5.42 | valid ppl   225.77\n",
      "-----------------------------------------------------------------------------------------------\n",
      "-----------------------------------------------------------------------------------------------\n",
      "| end of epoch   4 | time: 77.75s | train loss  5.32 | valid loss  5.33 | valid ppl   206.85\n",
      "-----------------------------------------------------------------------------------------------\n",
      "-----------------------------------------------------------------------------------------------\n",
      "| end of epoch   5 | time: 80.37s | train loss  5.17 | valid loss  5.26 | valid ppl   192.85\n",
      "-----------------------------------------------------------------------------------------------\n",
      "-----------------------------------------------------------------------------------------------\n",
      "| end of epoch   6 | time: 74.69s | train loss  5.05 | valid loss  5.22 | valid ppl   184.38\n",
      "-----------------------------------------------------------------------------------------------\n",
      "-----------------------------------------------------------------------------------------------\n",
      "| end of epoch   7 | time: 77.80s | train loss  4.94 | valid loss  5.18 | valid ppl   178.02\n",
      "-----------------------------------------------------------------------------------------------\n",
      "-----------------------------------------------------------------------------------------------\n",
      "| end of epoch   8 | time: 78.89s | train loss  4.85 | valid loss  5.15 | valid ppl   173.00\n",
      "-----------------------------------------------------------------------------------------------\n",
      "-----------------------------------------------------------------------------------------------\n",
      "| end of epoch   9 | time: 74.80s | train loss  4.77 | valid loss  5.13 | valid ppl   169.37\n",
      "-----------------------------------------------------------------------------------------------\n",
      "-----------------------------------------------------------------------------------------------\n",
      "| end of epoch  10 | time: 75.60s | train loss  4.70 | valid loss  5.11 | valid ppl   165.33\n",
      "-----------------------------------------------------------------------------------------------\n",
      "-----------------------------------------------------------------------------------------------\n",
      "| end of epoch  11 | time: 81.56s | train loss  4.63 | valid loss  5.11 | valid ppl   165.31\n",
      "-----------------------------------------------------------------------------------------------\n",
      "-----------------------------------------------------------------------------------------------\n",
      "| end of epoch  12 | time: 82.40s | train loss  4.57 | valid loss  5.10 | valid ppl   163.42\n",
      "-----------------------------------------------------------------------------------------------\n",
      "-----------------------------------------------------------------------------------------------\n",
      "| end of epoch  13 | time: 80.59s | train loss  4.52 | valid loss  5.08 | valid ppl   161.14\n",
      "-----------------------------------------------------------------------------------------------\n",
      "-----------------------------------------------------------------------------------------------\n",
      "| end of epoch  14 | time: 81.17s | train loss  4.46 | valid loss  5.08 | valid ppl   160.64\n",
      "-----------------------------------------------------------------------------------------------\n",
      "-----------------------------------------------------------------------------------------------\n",
      "| end of epoch  15 | time: 83.09s | train loss  4.42 | valid loss  5.08 | valid ppl   161.33\n",
      "-----------------------------------------------------------------------------------------------\n",
      "-----------------------------------------------------------------------------------------------\n",
      "| end of epoch  16 | time: 82.04s | train loss  4.37 | valid loss  5.09 | valid ppl   161.85\n",
      "-----------------------------------------------------------------------------------------------\n",
      "-----------------------------------------------------------------------------------------------\n",
      "| end of epoch  17 | time: 75.24s | train loss  4.33 | valid loss  5.08 | valid ppl   161.38\n",
      "-----------------------------------------------------------------------------------------------\n",
      "-----------------------------------------------------------------------------------------------\n",
      "| end of epoch  18 | time: 78.24s | train loss  4.29 | valid loss  5.08 | valid ppl   161.23\n",
      "-----------------------------------------------------------------------------------------------\n",
      "-----------------------------------------------------------------------------------------------\n",
      "| end of epoch  19 | time: 76.62s | train loss  4.25 | valid loss  5.09 | valid ppl   162.25\n",
      "-----------------------------------------------------------------------------------------------\n",
      "-----------------------------------------------------------------------------------------------\n",
      "| end of epoch  20 | time: 80.05s | train loss  4.22 | valid loss  5.09 | valid ppl   162.97\n",
      "-----------------------------------------------------------------------------------------------\n"
     ]
    },
    {
     "data": {
      "image/png": "[encoded data removed]",
      "text/plain": [
       "<Figure size 640x480 with 1 Axes>"
      ]
     },
     "metadata": {},
     "output_type": "display_data"
    },
    {
     "name": "stdout",
     "output_type": "stream",
     "text": [
      "TRAINING MODEL 2\n",
      "-----------------------------------------------------------------------------------------------\n",
      "| end of epoch   1 | time: 94.92s | train loss  6.40 | valid loss  5.87 | valid ppl   352.78\n",
      "-----------------------------------------------------------------------------------------------\n",
      "-----------------------------------------------------------------------------------------------\n",
      "| end of epoch   2 | time: 100.89s | train loss  5.80 | valid loss  5.61 | valid ppl   274.22\n",
      "-----------------------------------------------------------------------------------------------\n",
      "-----------------------------------------------------------------------------------------------\n",
      "| end of epoch   3 | time: 98.35s | train loss  5.54 | valid loss  5.47 | valid ppl   236.33\n",
      "-----------------------------------------------------------------------------------------------\n",
      "-----------------------------------------------------------------------------------------------\n",
      "| end of epoch   4 | time: 94.42s | train loss  5.35 | valid loss  5.38 | valid ppl   217.33\n",
      "-----------------------------------------------------------------------------------------------\n",
      "-----------------------------------------------------------------------------------------------\n",
      "| end of epoch   5 | time: 100.00s | train loss  5.21 | valid loss  5.32 | valid ppl   205.03\n",
      "-----------------------------------------------------------------------------------------------\n",
      "-----------------------------------------------------------------------------------------------\n",
      "| end of epoch   6 | time: 98.17s | train loss  5.09 | valid loss  5.27 | valid ppl   194.47\n",
      "-----------------------------------------------------------------------------------------------\n",
      "-----------------------------------------------------------------------------------------------\n",
      "| end of epoch   7 | time: 94.15s | train loss  4.99 | valid loss  5.24 | valid ppl   189.20\n",
      "-----------------------------------------------------------------------------------------------\n",
      "-----------------------------------------------------------------------------------------------\n",
      "| end of epoch   8 | time: 97.32s | train loss  4.90 | valid loss  5.22 | valid ppl   184.95\n",
      "-----------------------------------------------------------------------------------------------\n",
      "-----------------------------------------------------------------------------------------------\n",
      "| end of epoch   9 | time: 99.32s | train loss  4.82 | valid loss  5.20 | valid ppl   181.88\n",
      "-----------------------------------------------------------------------------------------------\n",
      "-----------------------------------------------------------------------------------------------\n",
      "| end of epoch  10 | time: 92.18s | train loss  4.75 | valid loss  5.19 | valid ppl   179.07\n",
      "-----------------------------------------------------------------------------------------------\n",
      "-----------------------------------------------------------------------------------------------\n",
      "| end of epoch  11 | time: 92.13s | train loss  4.69 | valid loss  5.18 | valid ppl   177.80\n",
      "-----------------------------------------------------------------------------------------------\n",
      "-----------------------------------------------------------------------------------------------\n",
      "| end of epoch  12 | time: 92.37s | train loss  4.63 | valid loss  5.17 | valid ppl   176.36\n",
      "-----------------------------------------------------------------------------------------------\n",
      "-----------------------------------------------------------------------------------------------\n",
      "| end of epoch  13 | time: 9014.35s | train loss  4.58 | valid loss  5.16 | valid ppl   174.99\n",
      "-----------------------------------------------------------------------------------------------\n",
      "-----------------------------------------------------------------------------------------------\n",
      "| end of epoch  14 | time: 90.81s | train loss  4.53 | valid loss  5.16 | valid ppl   174.83\n",
      "-----------------------------------------------------------------------------------------------\n",
      "-----------------------------------------------------------------------------------------------\n",
      "| end of epoch  15 | time: 90.30s | train loss  4.48 | valid loss  5.17 | valid ppl   176.40\n",
      "-----------------------------------------------------------------------------------------------\n",
      "-----------------------------------------------------------------------------------------------\n",
      "| end of epoch  16 | time: 90.73s | train loss  4.44 | valid loss  5.17 | valid ppl   176.74\n",
      "-----------------------------------------------------------------------------------------------\n",
      "-----------------------------------------------------------------------------------------------\n",
      "| end of epoch  17 | time: 91.14s | train loss  4.40 | valid loss  5.17 | valid ppl   175.16\n",
      "-----------------------------------------------------------------------------------------------\n",
      "-----------------------------------------------------------------------------------------------\n",
      "| end of epoch  18 | time: 90.78s | train loss  4.36 | valid loss  5.17 | valid ppl   176.19\n",
      "-----------------------------------------------------------------------------------------------\n",
      "-----------------------------------------------------------------------------------------------\n",
      "| end of epoch  19 | time: 90.76s | train loss  4.32 | valid loss  5.19 | valid ppl   178.75\n",
      "-----------------------------------------------------------------------------------------------\n",
      "-----------------------------------------------------------------------------------------------\n",
      "| end of epoch  20 | time: 91.08s | train loss  4.29 | valid loss  5.18 | valid ppl   178.54\n",
      "-----------------------------------------------------------------------------------------------\n"
     ]
    },
    {
     "data": {
      "image/png": "[encoded data removed]",
      "text/plain": [
       "<Figure size 640x480 with 1 Axes>"
      ]
     },
     "metadata": {},
     "output_type": "display_data"
    }
   ],
   "source": [
    "best_val_loss = float('inf')\n",
    "epochs = 20\n",
    "\n",
    "with TemporaryDirectory() as tempdir:\n",
    "    best_model_params_path = os.path.join(tempdir, \"best_model_params.pt\")\n",
    "    \n",
    "    for i, model in enumerate([model_1, model_2]):\n",
    "        print('TRAINING MODEL {}'.format(i+1))\n",
    "        train_arr = []\n",
    "        val_arr = []\n",
    "        ep_arr = []\n",
    "        for epoch in range(1, epochs + 1):\n",
    "            epoch_start_time = time.time()\n",
    "            train_loss = train(model)\n",
    "            val_loss = evaluate(model, val_data)\n",
    "            train_arr.append(train_loss)\n",
    "            val_arr.append(val_loss)\n",
    "            ep_arr.append(epoch)\n",
    "            val_ppl = math.exp(val_loss)\n",
    "            elapsed = time.time() - epoch_start_time\n",
    "            print('-' * 95)\n",
    "            print(f'| end of epoch {epoch:3d} | time: {elapsed:5.2f}s | train loss {train_loss:5.2f} | '\n",
    "                f'valid loss {val_loss:5.2f} | valid ppl {val_ppl:8.2f}')\n",
    "            print('-' * 95)\n",
    "\n",
    "            if val_loss < best_val_loss:\n",
    "                best_val_loss = val_loss\n",
    "                torch.save(model.state_dict(), best_model_params_path)\n",
    "        plt.title(f'Model {i} train vs val')\n",
    "        plt.plot(ep_arr, train_arr)\n",
    "        plt.plot(ep_arr, val_arr)\n",
    "        plt.legend(['train', 'loss'])\n",
    "        plt.savefig(f'model {i}.png', dpi=300)\n",
    "        plt.show()\n"
   ]
  },
  {
   "cell_type": "markdown",
   "metadata": {},
   "source": [
    "## Evaluate the base Transformer model on the test dataset"
   ]
  },
  {
   "cell_type": "code",
   "execution_count": 36,
   "metadata": {},
   "outputs": [
    {
     "name": "stdout",
     "output_type": "stream",
     "text": [
      "=========================================================================================\n",
      "| End of training | test loss  5.01 | test ppl   150.11\n",
      "=========================================================================================\n"
     ]
    }
   ],
   "source": [
    "test_loss = evaluate(model_1, test_data)\n",
    "test_ppl = math.exp(test_loss)\n",
    "print('=' * 89)\n",
    "print(f'| End of training | test loss {test_loss:5.2f} | '\n",
    "      f'test ppl {test_ppl:8.2f}')\n",
    "print('=' * 89)"
   ]
  },
  {
   "cell_type": "markdown",
   "metadata": {},
   "source": [
    "## Evaluate the Custom Transformer model on the test dataset"
   ]
  },
  {
   "cell_type": "code",
   "execution_count": 37,
   "metadata": {},
   "outputs": [
    {
     "name": "stdout",
     "output_type": "stream",
     "text": [
      "=========================================================================================\n",
      "| End of training | test loss  5.11 | test ppl   165.83\n",
      "=========================================================================================\n"
     ]
    }
   ],
   "source": [
    "test_loss = evaluate(model_2, test_data)\n",
    "test_ppl = math.exp(test_loss)\n",
    "print('=' * 89)\n",
    "print(f'| End of training | test loss {test_loss:5.2f} | '\n",
    "      f'test ppl {test_ppl:8.2f}')\n",
    "print('=' * 89)"
   ]
  },
  {
   "cell_type": "markdown",
   "metadata": {},
   "source": [
    "## Conclusion\n",
    "<p style=\"font-size:16px\"> We can observe multiple finding from this activity:-<br><br>1. During Training, our <b>Custom Transformer Model behaves exactly like Base Transformer model</b> in terms of <code>training_loss vs epochs</code> and <code>val_loss vs epochs plot</code>. This tells us that our <b>Custom Transformer model do not violate Transformer model algorithm</b> and works like it only.<br><br>2. We can observe that the Custom Transformer model <b>receives just slighltly higher training and validaion loss</b> in comparision to the base transformer model. This tells us that <b>our current custom transformer model definition is not upto the mark to that of pre defined Transformers.</b><br><br><br></p>\n",
    "<p style=\"font-size:18px; text-align:center\"> <b> THROUGH THIS STUDY WE PROPOSED A NEW TRANSFORMER ENCODER ARCHITECHTURE THAT ACHIEVED SIMILAR PERFORMANCE LEVELS TO THAT OF VANILLA TANSFORMER AND PROVIDES US WITH A VALID ALTERNATIVE TO THE CURRENT ARCHITECHTURE. </b></p>"
   ]
  },
  {
   "cell_type": "code",
   "execution_count": null,
   "metadata": {},
   "outputs": [],
   "source": []
  }
 ],
 "metadata": {
  "kernelspec": {
   "display_name": "pytorch_prep",
   "language": "python",
   "name": "pytorch_prep"
  },
  "language_info": {
   "codemirror_mode": {
    "name": "ipython",
    "version": 3
   },
   "file_extension": ".py",
   "mimetype": "text/x-python",
   "name": "python",
   "nbconvert_exporter": "python",
   "pygments_lexer": "ipython3",
   "version": "3.11.5"
  }
 },
 "nbformat": 4,
 "nbformat_minor": 1
}
